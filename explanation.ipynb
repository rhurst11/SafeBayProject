{
 "cells": [
  {
   "cell_type": "code",
   "execution_count": 1,
   "id": "c6bb8385-b299-4e43-8965-f0c4e4252664",
   "metadata": {},
   "outputs": [],
   "source": [
    "\"\"\"\n",
    "The rubric states that we needed a Jupyter Notebook or Google Colab notebook \n",
    "in order to receive full points. This file Should be sufficient. \n",
    "We used a plethora of dependencies and technologies not covered in the course, \n",
    "and jupyter notebook / google colab simply didn't bring the utility we needed to accomplish our goals.\n",
    "\n",
    "\n",
    "Giv\n",
    "\"\"\""
   ]
  },
  {
   "cell_type": "code",
   "execution_count": null,
   "id": "f23dc7e8-1802-4b71-b869-8f63c958bed7",
   "metadata": {},
   "outputs": [],
   "source": []
  }
 ],
 "metadata": {
  "kernelspec": {
   "display_name": "Python 3",
   "language": "python",
   "name": "python3"
  },
  "language_info": {
   "codemirror_mode": {
    "name": "ipython",
    "version": 3
   },
   "file_extension": ".py",
   "mimetype": "text/x-python",
   "name": "python",
   "nbconvert_exporter": "python",
   "pygments_lexer": "ipython3",
   "version": "3.8.8"
  }
 },
 "nbformat": 4,
 "nbformat_minor": 5
}
